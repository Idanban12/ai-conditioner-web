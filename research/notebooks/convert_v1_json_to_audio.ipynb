{
 "cells": [
  {
   "cell_type": "markdown",
   "metadata": {},
   "source": [
    "# Configuration\n",
    "Define imports and configuration parameters: root directory, output directory, optional file filter, and voice model selection."
   ]
  },
  {
   "cell_type": "code",
   "execution_count": null,
   "metadata": {},
   "outputs": [],
   "source": [
    "import boto3\n",
    "import hashlib\n",
    "import string\n",
    "import os\n",
    "import json\n",
    "import re\n",
    "# Specify a single file to process or None for all\n",
    "filter_file_name = 'Mindbreak'  # without extension\n",
    "voice_model = 'neural'  # 'standard' or 'neural'\n",
    "# Determine voice ID and engine based on model selection\n",
    "voice_id = 'Salli'\n",
    "engine = 'neural' if voice_model.lower() == 'neural' else 'standard'  # neural engine only in supported regions\n",
    "# Specify AWS region for Polly (must support neural engine)\n",
    "region_name = 'us-east-1'  # change as needed\n",
    "# Set directories\n",
    "root_dir = '../hypnosis'  # base folder for JSON files\n",
    "audio_dir = '../audio'"
   ]
  },
  {
   "cell_type": "markdown",
   "metadata": {},
   "source": [
    "# Audio Generation Process\n",
    "Initialize AWS Polly, create output directory, load processed lines, filter JSON files, and generate MP3 using the selected voice model."
   ]
  },
  {
   "cell_type": "code",
   "execution_count": null,
   "metadata": {},
   "outputs": [],
   "source": [
    "polly = boto3.client('polly', region_name=region_name)\n",
    "\n",
    "os.makedirs(audio_dir, exist_ok=True)\n",
    "\n",
    "processed_lines = set()\n",
    "# Include existing mp3 files in processed_lines\n",
    "for filename in os.listdir(audio_dir):\n",
    "    if filename.endswith('.mp3'):\n",
    "        file_root = os.path.splitext(filename)[0]  # Remove file extension\n",
    "        processed_lines.add(file_root)\n",
    "\n",
    "for subdir, _, files in os.walk(root_dir):\n",
    "    for file in files:\n",
    "        if file.endswith('.json'):\n",
    "            # Skip files not matching filter\n",
    "            if filter_file_name and os.path.splitext(file)[0] != filter_file_name:\n",
    "                continue\n",
    "            new_entries = 0\n",
    "            file_path = os.path.join(subdir, file)\n",
    "            theme = os.path.splitext(file)[0]\n",
    "            try:\n",
    "                with open(file_path, 'r', encoding='utf-8') as f:\n",
    "                    data = json.load(f)\n",
    "                    for entry in data:\n",
    "                        # use polly_text override if provided, else fall back to display line\n",
    "                        text_to_say = entry.get('polly_text', entry.get('line', ''))\n",
    "                        # normalize for hashing/display\n",
    "                        line = text_to_say\n",
    "                        # Normalize the line to create a unique key\n",
    "                        line_key = line.translate(str.maketrans('', '', string.punctuation)).replace(' ', '').lower()\n",
    "                        line_hash = hashlib.sha256(line_key.encode('utf-8')).hexdigest()\n",
    "                        if line_hash in processed_lines:\n",
    "                            continue\n",
    "                        response = polly.synthesize_speech(\n",
    "                            Text=text_to_say,\n",
    "                            OutputFormat='mp3',\n",
    "                            VoiceId=voice_id,\n",
    "                            Engine=engine\n",
    "                        )\n",
    "                        new_entries += 1\n",
    "                        audio_file_path = os.path.join(audio_dir, f\"{line_hash}.mp3\")\n",
    "                        with open(audio_file_path, 'wb') as audio_file:\n",
    "                            audio_file.write(response['AudioStream'].read())\n",
    "                        processed_lines.add(line_hash)\n",
    "                if new_entries:\n",
    "                    print(f\"Processed: {theme} with {new_entries} new entries\")\n",
    "            except Exception as e:\n",
    "                print(f\"Error processing file {file}: {e}\")"
   ]
  },
  {
   "cell_type": "markdown",
   "metadata": {
    "vscode": {
     "languageId": "markdown"
    }
   },
   "source": [
    "# File Consistency Check\n",
    "\n",
    "This cell reviews all JSON entries and compares the generated audio file hashes in the audio directory. It identifies any audio files that do not correspond to an entry in the JSON files and also flags any entries that are missing an associated audio file."
   ]
  },
  {
   "cell_type": "code",
   "execution_count": null,
   "metadata": {},
   "outputs": [],
   "source": [
    "orphaned_lines = []\n",
    "\n",
    "for subdir, _, files in os.walk(root_dir):\n",
    "    for file in files:\n",
    "        if file.endswith('.json'):\n",
    "            file_path = os.path.join(subdir, file)\n",
    "            try:\n",
    "                with open(file_path, 'r', encoding='utf-8') as f:\n",
    "                    data = json.load(f)\n",
    "                    for entry in data:\n",
    "                        # check override as well\n",
    "                        line = entry.get('polly_text', entry.get('line', ''))\n",
    "                        if not line:\n",
    "                            orphaned_lines.append({'file': file, 'entry': entry, 'reason': 'Missing line'})\n",
    "                            continue\n",
    "                        # Generate line hash as before\n",
    "                        line_key = line.translate(str.maketrans('', '', string.punctuation)).replace(' ', '').lower()\n",
    "                        line_hash = hashlib.sha256(line_key.encode('utf-8')).hexdigest()\n",
    "                        if line_hash not in processed_lines:\n",
    "                            orphaned_lines.append({'file': file, 'line': line, 'reason': 'No audio associated'})\n",
    "            except Exception as e:\n",
    "                print(f\"Error processing file {file}: {e}\")\n",
    "\n",
    "if orphaned_lines:\n",
    "    print(\"The following entries are orphaned:\")\n",
    "    for orphan in orphaned_lines:\n",
    "        print(f\"File: {orphan['file']}, Line: {orphan.get('line', '')}, Reason: {orphan['reason']}\")\n",
    "else:\n",
    "    print(\"No orphaned or abandoned lines found.\")"
   ]
  }
 ],
 "metadata": {
  "kernelspec": {
   "display_name": "Python 3",
   "language": "python",
   "name": "python3"
  },
  "language_info": {
   "codemirror_mode": {
    "name": "ipython",
    "version": 3
   },
   "file_extension": ".py",
   "mimetype": "text/x-python",
   "name": "python",
   "nbconvert_exporter": "python",
   "pygments_lexer": "ipython3",
   "version": "3.11.9"
  }
 },
 "nbformat": 4,
 "nbformat_minor": 2
}
